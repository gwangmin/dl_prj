{
  "nbformat": 4,
  "nbformat_minor": 0,
  "metadata": {
    "colab": {
      "provenance": []
    },
    "kernelspec": {
      "name": "python3",
      "display_name": "Python 3"
    }
  },
  "cells": [
    {
      "cell_type": "code",
      "metadata": {
        "id": "wvlDB5NLfzYZ"
      },
      "source": [
        "# numpy\n",
        "import numpy as np\n",
        "# matplotlib\n",
        "%matplotlib inline\n",
        "import matplotlib.pyplot as plt"
      ],
      "execution_count": null,
      "outputs": []
    },
    {
      "cell_type": "code",
      "metadata": {
        "id": "QAaC4bDdAAIj",
        "colab": {
          "base_uri": "https://localhost:8080/"
        },
        "outputId": "75516ca4-10f9-4aab-f9cf-5fc98bd65f39"
      },
      "source": [
        "# 구글드라이브를 /content/gdrive/'My Drive'에 마운트\n",
        "\n",
        "from google.colab import drive\n",
        "drive.mount('/content/gdrive')"
      ],
      "execution_count": null,
      "outputs": [
        {
          "output_type": "stream",
          "name": "stdout",
          "text": [
            "Drive already mounted at /content/gdrive; to attempt to forcibly remount, call drive.mount(\"/content/gdrive\", force_remount=True).\n"
          ]
        }
      ]
    },
    {
      "cell_type": "code",
      "metadata": {
        "id": "0PQYT0nVokWg",
        "colab": {
          "base_uri": "https://localhost:8080/"
        },
        "outputId": "6a1d5a82-aff0-4923-a6fc-eaef05bec212"
      },
      "source": [
        "# 마운트된 구글 드라이브로 이동\n",
        "\n",
        "%cd /content/gdrive/MyDrive/ssu/dl/prj"
      ],
      "execution_count": null,
      "outputs": [
        {
          "output_type": "stream",
          "name": "stdout",
          "text": [
            "/content/gdrive/MyDrive/ssu/dl/prj\n"
          ]
        }
      ]
    },
    {
      "cell_type": "code",
      "source": [
        "!git clone https://github.com/ssuai/deep_learning_from_scratch_2.git"
      ],
      "metadata": {
        "id": "lUzHqgK70s77",
        "colab": {
          "base_uri": "https://localhost:8080/"
        },
        "outputId": "61a246a8-79d1-4734-dae4-f364d75a197a"
      },
      "execution_count": null,
      "outputs": [
        {
          "output_type": "stream",
          "name": "stdout",
          "text": [
            "fatal: destination path 'deep_learning_from_scratch_2' already exists and is not an empty directory.\n"
          ]
        }
      ]
    },
    {
      "cell_type": "code",
      "source": [
        "%cd deep_learning_from_scratch_2/"
      ],
      "metadata": {
        "id": "XhXtbaNb3b0D",
        "colab": {
          "base_uri": "https://localhost:8080/"
        },
        "outputId": "9ba39b57-8739-46be-8387-4890018693cd"
      },
      "execution_count": null,
      "outputs": [
        {
          "output_type": "stream",
          "name": "stdout",
          "text": [
            "/content/gdrive/MyDrive/ssu/dl/prj/deep_learning_from_scratch_2\n"
          ]
        }
      ]
    },
    {
      "cell_type": "code",
      "source": [
        "from common.time_layers import *\n",
        "from ch08.attention_layer import TimeAttention\n",
        "from ch01.forward_net import Affine\n",
        "\n",
        "\n",
        "class Relu:\n",
        "    def __init__(self):\n",
        "        self.mask = None\n",
        "\n",
        "    def forward(self, x):\n",
        "        self.mask = (x <= 0)\n",
        "        out = x.copy()\n",
        "        out[self.mask] = 0\n",
        "\n",
        "        return out\n",
        "\n",
        "    def backward(self, dout):\n",
        "        dout[self.mask] = 0\n",
        "        dx = dout\n",
        "\n",
        "        return dx\n",
        "\n",
        "\n",
        "class Encoder:\n",
        "    def __init__(self, vocab_size, wordvec_size, hidden_size):\n",
        "        V, D, H = vocab_size, wordvec_size, hidden_size\n",
        "        rn = np.random.randn\n",
        "\n",
        "        embed_W = (rn(V, D) / 100).astype('f')\n",
        "        # lstm_Wx = (rn(D, 4 * H) / np.sqrt(D)).astype('f')\n",
        "        # lstm_Wh = (rn(H, 4 * H) / np.sqrt(H)).astype('f')\n",
        "        w = (rn(D, H) / np.sqrt(D)).astype('f')\n",
        "        b = np.zeros(H).astype('f')\n",
        "        # lstm_b = np.zeros(4 * H).astype('f')\n",
        "\n",
        "        self.embed = TimeEmbedding(embed_W)\n",
        "        self.attention = TimeAttention()\n",
        "        self.affine = TimeAffine(w, b)\n",
        "        self.relu = Relu()\n",
        "\n",
        "        self.params = self.embed.params + self.affine.params\n",
        "        self.grads = self.embed.grads + self.affine.grads\n",
        "        self.hs = None\n",
        "\n",
        "    def forward(self, xs):\n",
        "        xs = self.embed.forward(xs)\n",
        "        xs = self.attention.forward(xs, xs)\n",
        "        xs = self.affine.forward(xs)\n",
        "        hs = self.relu.forward(xs)\n",
        "\n",
        "        self.hs = hs\n",
        "        return hs[:, -1, :]\n",
        "\n",
        "    def backward(self, dh):\n",
        "        dout = self.relu.backward(dh)\n",
        "        dout = self.affine.backward(dout)\n",
        "        dout = self.attention.backward(dout)\n",
        "        dout = self.embed.backward(dout)\n",
        "        return dout"
      ],
      "metadata": {
        "id": "NZFiKpE3mm7I"
      },
      "execution_count": null,
      "outputs": []
    },
    {
      "cell_type": "code",
      "source": [],
      "metadata": {
        "id": "ovggOfH3w7Bb"
      },
      "execution_count": null,
      "outputs": []
    }
  ]
}